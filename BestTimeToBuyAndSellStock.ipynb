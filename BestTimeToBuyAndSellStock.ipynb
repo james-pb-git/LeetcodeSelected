{
 "cells": [
  {
   "cell_type": "markdown",
   "metadata": {},
   "source": [
    "# I. 121. One transaction"
   ]
  },
  {
   "cell_type": "code",
   "execution_count": 3,
   "metadata": {},
   "outputs": [],
   "source": [
    "class Solution:\n",
    "    def maxProfit(self, prices: 'List[int]') -> int:\n",
    "        if len(prices) == 0:\n",
    "            return 0\n",
    "        priceBuy = prices[0]\n",
    "        priceSell = prices[0]\n",
    "        maxProfit = 0\n",
    "        for idx in range(1, len(prices)):\n",
    "            if prices[idx] > priceSell:\n",
    "                priceSell = prices[idx]\n",
    "                maxProfit = max(maxProfit, priceSell - priceBuy)\n",
    "            elif prices[idx] < priceBuy:\n",
    "                priceSell = prices[idx]\n",
    "                priceBuy = prices[idx]\n",
    "        return maxProfit"
   ]
  },
  {
   "cell_type": "markdown",
   "metadata": {},
   "source": [
    "Notice that the variable priceSell is redundant, so we could simply the code as follows:"
   ]
  },
  {
   "cell_type": "code",
   "execution_count": null,
   "metadata": {},
   "outputs": [],
   "source": [
    "class Solution:\n",
    "    def maxProfit(self, prices: 'List[int]') -> int:\n",
    "        if len(prices) == 0:\n",
    "            return 0\n",
    "        lowestPrice = prices[0] + 1\n",
    "        profit = 0\n",
    "        for idx in range(len(prices)):\n",
    "            if prices[idx] < lowestPrice:\n",
    "                lowestPrice = prices[idx]\n",
    "            profit = max(profit, prices[idx] - lowestPrice)\n",
    "        return profit"
   ]
  },
  {
   "cell_type": "markdown",
   "metadata": {},
   "source": [
    "Another way to see this problem: if we are given an array where every element is the difference between prices in two consecutive days, we are actually solving the \"maximum subarray problem\" of the array. And this thought leads to the following dynamic programming solution."
   ]
  },
  {
   "cell_type": "code",
   "execution_count": null,
   "metadata": {},
   "outputs": [],
   "source": [
    "class Solution:\n",
    "    def maxProfit(self, prices: 'List[int]') -> int:\n",
    "        if len(prices) <= 1:\n",
    "            return 0\n",
    "        maxSoFar = 0\n",
    "        maxEndingHere = 0\n",
    "        prev = prices[0]\n",
    "        for idx in range(len(prices)):\n",
    "            maxEndingHere = max(0, maxEndingHere) + prices[idx] - prev\n",
    "            maxSoFar = max(maxSoFar, maxEndingHere)\n",
    "            prev = prices[idx]\n",
    "        return maxSoFar"
   ]
  },
  {
   "cell_type": "markdown",
   "metadata": {},
   "source": [
    "# II. 122. Unlimited transactions"
   ]
  },
  {
   "cell_type": "code",
   "execution_count": 2,
   "metadata": {},
   "outputs": [],
   "source": [
    "class Solution:\n",
    "    def maxProfit(self, prices: 'List[int]') -> int:\n",
    "        if len(prices) <= 1:\n",
    "            return 0\n",
    "        profit = 0\n",
    "        for idx in range(1, len(prices)):\n",
    "            if prices[idx] > prices[idx-1]:\n",
    "                profit += prices[idx] - prices[idx-1]\n",
    "        return profit"
   ]
  },
  {
   "cell_type": "markdown",
   "metadata": {},
   "source": [
    "# III. 123. Two transactions"
   ]
  },
  {
   "cell_type": "code",
   "execution_count": null,
   "metadata": {},
   "outputs": [],
   "source": []
  },
  {
   "cell_type": "markdown",
   "metadata": {},
   "source": [
    "# IV. 188. K transactions"
   ]
  },
  {
   "cell_type": "code",
   "execution_count": null,
   "metadata": {},
   "outputs": [],
   "source": []
  }
 ],
 "metadata": {
  "kernelspec": {
   "display_name": "Python 3",
   "language": "python",
   "name": "python3"
  },
  "language_info": {
   "codemirror_mode": {
    "name": "ipython",
    "version": 3
   },
   "file_extension": ".py",
   "mimetype": "text/x-python",
   "name": "python",
   "nbconvert_exporter": "python",
   "pygments_lexer": "ipython3",
   "version": "3.6.5"
  }
 },
 "nbformat": 4,
 "nbformat_minor": 2
}
