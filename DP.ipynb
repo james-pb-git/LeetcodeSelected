{
 "cells": [
  {
   "cell_type": "markdown",
   "metadata": {},
   "source": [
    "# Dynamic Programming\n",
    "\n",
    "## 132. Panlindrome partitioning II"
   ]
  },
  {
   "cell_type": "code",
   "execution_count": 1,
   "metadata": {},
   "outputs": [],
   "source": [
    "class Solution:\n",
    "    def minCut(self, s: str) -> int:\n",
    "        if s is None or len(s) <= 1:\n",
    "            return 0\n",
    "        isPal = [[0 for _ in range(len(s))] for _ in range(len(s))]\n",
    "        \n",
    "        # The trick here is to append a '-1' to the array dp, so in the inner\n",
    "        # for-loop, when s[idx1 ... idx2+1] is a panlindrome, and idx2 = len(s)-1,\n",
    "        # we could simply assign dp[idx1] = 1 + \"-1\" = 0\n",
    "        dp = [len(s) for _ in range(len(s))] + [-1]\n",
    "        for idx1 in range(len(s)-1, -1, -1):\n",
    "            for idx2 in range(idx1, len(s)):\n",
    "                if idx1 == idx2:\n",
    "                    isPal[idx1][idx2] = 1\n",
    "                elif idx2 - idx1 == 1:\n",
    "                    isPal[idx1][idx2] = 1 if s[idx1] == s[idx2] else 0\n",
    "                else:\n",
    "                    isPal[idx1][idx2] = 1 if (isPal[idx1+1][idx2-1] \\\n",
    "                                        and s[idx1] == s[idx2]) else 0\n",
    "                if isPal[idx1][idx2]:\n",
    "                    dp[idx1] = min(dp[idx1], 1 + dp[idx2+1])\n",
    "        return dp[0]"
   ]
  },
  {
   "cell_type": "markdown",
   "metadata": {},
   "source": [
    "## 983. Minimum Cost For Tickets"
   ]
  },
  {
   "cell_type": "code",
   "execution_count": 2,
   "metadata": {},
   "outputs": [],
   "source": [
    "class Solution:\n",
    "    def mincostTickets(self, days: 'List[int]', costs: 'List[int]') -> 'int':\n",
    "        calendar = [0] * 365\n",
    "        for num in days:\n",
    "            calendar[num-1] = 1\n",
    "        min_cost = [0] * 30 + [0] * 365\n",
    "        for idx in range(len(calendar)):\n",
    "            if calendar[idx] == 0:\n",
    "                min_cost[idx+30] = min_cost[idx+29]\n",
    "            else:\n",
    "                min_cost[idx+30] = min(min_cost[idx+29] + costs[0],\\\n",
    "                                      min_cost[idx+23] + costs[1],\\\n",
    "                                      min_cost[idx] + costs[2])\n",
    "        return min_cost[-1]"
   ]
  }
 ],
 "metadata": {
  "kernelspec": {
   "display_name": "Python 3",
   "language": "python",
   "name": "python3"
  },
  "language_info": {
   "codemirror_mode": {
    "name": "ipython",
    "version": 3
   },
   "file_extension": ".py",
   "mimetype": "text/x-python",
   "name": "python",
   "nbconvert_exporter": "python",
   "pygments_lexer": "ipython3",
   "version": "3.6.5"
  }
 },
 "nbformat": 4,
 "nbformat_minor": 2
}
