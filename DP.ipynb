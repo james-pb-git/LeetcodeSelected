{
 "cells": [
  {
   "cell_type": "markdown",
   "metadata": {},
   "source": [
    "# Dynamic Programming\n",
    "\n",
    "## 132. Panlindrome partitioning II"
   ]
  },
  {
   "cell_type": "code",
   "execution_count": null,
   "metadata": {},
   "outputs": [],
   "source": [
    "class Solution:\n",
    "    def minCut(self, s: str) -> int:\n",
    "        if s is None or len(s) <= 1:\n",
    "            return 0\n",
    "        isPal = [[0 for _ in range(len(s))] for _ in range(len(s))]\n",
    "        \n",
    "        # The trick here is to append a '-1' to the array dp, so in the inner\n",
    "        # for-loop, when s[idx1 ... idx2+1] is a panlindrome, and idx2 = len(s)-1,\n",
    "        # we could simply assign dp[idx1] = 1 + \"-1\" = 0\n",
    "        dp = [len(s) for _ in range(len(s))] + [-1]\n",
    "        for idx1 in range(len(s)-1, -1, -1):\n",
    "            for idx2 in range(idx1, len(s)):\n",
    "                if idx1 == idx2:\n",
    "                    isPal[idx1][idx2] = 1\n",
    "                elif idx2 - idx1 == 1:\n",
    "                    isPal[idx1][idx2] = 1 if s[idx1] == s[idx2] else 0\n",
    "                else:\n",
    "                    isPal[idx1][idx2] = 1 if (isPal[idx1+1][idx2-1] \\\n",
    "                                        and s[idx1] == s[idx2]) else 0\n",
    "                if isPal[idx1][idx2]:\n",
    "                    dp[idx1] = min(dp[idx1], 1 + dp[idx2+1])\n",
    "        return dp[0]"
   ]
  }
 ],
 "metadata": {
  "kernelspec": {
   "display_name": "Python 3",
   "language": "python",
   "name": "python3"
  },
  "language_info": {
   "codemirror_mode": {
    "name": "ipython",
    "version": 3
   },
   "file_extension": ".py",
   "mimetype": "text/x-python",
   "name": "python",
   "nbconvert_exporter": "python",
   "pygments_lexer": "ipython3",
   "version": "3.6.5"
  }
 },
 "nbformat": 4,
 "nbformat_minor": 2
}
