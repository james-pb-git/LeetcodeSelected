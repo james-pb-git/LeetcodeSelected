{
 "cells": [
  {
   "cell_type": "markdown",
   "metadata": {},
   "source": [
    "# Breadth-first search\n",
    "\n",
    "**Breadth-first search** is a common search algorithm used for tree or graph structures. Using this method, we actually visit elements \"layer by layer\", i.e. visit one elment, then its neighbors, and then neighbors of neighbors. As a result, one of the most frequent ways to use it is to solve \"shortest path\" questions, where the optimal solution is actually the layer with smallest index.\n",
    "\n",
    "To implement, we might need to use three different types of data structures:\n",
    "- **Queue**: to store all the nodes to visit\n",
    "- **HashSet**: if we are traversing a graph, we will need to remember visited nodes.\n",
    "- **Tree**: if we are required to output the shortest path we found. In this tree, we store the parent of each node."
   ]
  },
  {
   "cell_type": "markdown",
   "metadata": {},
   "source": [
    "Let's get started from a simple question.\n",
    "\n",
    "## Leetcode 559. Maximum Depth of N-ary Tree\n",
    "*Given a n-ary tree, find its maximum depth. The maximum depth is the number of nodes along the longest path from the root node down to the farthest leaf node.*"
   ]
  },
  {
   "cell_type": "code",
   "execution_count": 2,
   "metadata": {},
   "outputs": [],
   "source": [
    "def maxDepth(self, root: 'Node') -> 'int':\n",
    "    if root is None:\n",
    "        return 0\n",
    "    queue = [root]\n",
    "    depth = 0\n",
    "    while len(queue) > 0:\n",
    "        num_same_level = len(queue)\n",
    "        for idx in range(num_same_level):\n",
    "            node = queue[0]\n",
    "            del queue[0]\n",
    "            for child in node.children:\n",
    "                queue.append(child)\n",
    "        depth += 1\n",
    "    return depth"
   ]
  },
  {
   "cell_type": "markdown",
   "metadata": {},
   "source": [
    "**Important Note**\n",
    "\n",
    "We usually need to record the \"layer index\" while BFSing, and this index is the current distance in a \"shortest path\" type of problem, or the current depth in a max depth question like this one. To do this, basically, there are three approaches:\n",
    "1. Add a layer attribute to the node element, so each element in the queue will be like {'val': 3, 'layer': 2}\n",
    "2. Implemnt two queues: current and next. On each level, we append neighbors (children) to the queue \"next\", and when the queue \"current\" is empty, we simply swap \"current\" and \"next\", and layer += 1\n",
    "3. **Before visiting each level, we count the length of current queue, and use a for loop to process all current nodes. At the end of the for loop, we add 1 to the layer variable, and start next level.**\n",
    "I think this third one is best, because it's simplest to implement and most readable. As you can see, I adopted this method in the problem.\n",
    "\n",
    "Although, for this question, **using DFS is actually much more straightforward.**"
   ]
  },
  {
   "cell_type": "code",
   "execution_count": 1,
   "metadata": {},
   "outputs": [],
   "source": [
    "# DFS approach\n",
    "def maxDepth(self, root: 'Node') -> 'int':\n",
    "    if root is None:\n",
    "        return 0\n",
    "    depth = 0\n",
    "    for child in root.children:\n",
    "        cur_depth = self.maxDepth(child)\n",
    "        if cur_depth > depth:\n",
    "            depth = cur_depth\n",
    "    return depth + 1"
   ]
  },
  {
   "cell_type": "markdown",
   "metadata": {},
   "source": [
    "## Leetcode 752. Open the Lock\n",
    "*You have a lock in front of you with 4 circular wheels. Each wheel has 10 slots: '0', '1', '2', '3', '4', '5', '6', '7', '8', '9'. The wheels can rotate freely and wrap around: for example we can turn '9' to be '0', or '0' to be '9'.*\n",
    "\n",
    "*Each move consists of turning one wheel one slot. The lock initially starts at '0000', a string representing the state of the 4 wheels. You are given a list of deadends dead ends, meaning if the lock displays any of these codes, the wheels of the lock will stop turning and you will be unable to open it.*\n",
    "\n",
    "*Given a target representing the value of the wheels that will unlock the lock, return the minimum total number of turns required to open the lock, or -1 if it is impossible.*"
   ]
  },
  {
   "cell_type": "code",
   "execution_count": 7,
   "metadata": {},
   "outputs": [],
   "source": [
    "from collections import deque\n",
    "class Solution:\n",
    "    def openLock(self, deadends: 'List[str]', target: 'str') -> 'int':\n",
    "        visited = set()\n",
    "        queue = deque(['0000'])\n",
    "        dead = set(deadends)\n",
    "        steps = 0\n",
    "        found = False\n",
    "        \n",
    "        while len(queue) > 0:\n",
    "            num_of_nodes = len(queue)\n",
    "            for _ in range(num_of_nodes):\n",
    "                node = queue.popleft()\n",
    "                if node in visited or node in dead:\n",
    "                    continue\n",
    "                visited.add(node)\n",
    "                if node == target:\n",
    "                    found = True\n",
    "                    return steps\n",
    "                self.add_next_nodes(node, queue)\n",
    "            steps += 1\n",
    "        return -1\n",
    "    \n",
    "    def add_next_nodes(self, node, queue) -> 'None':\n",
    "        for idx in range(len(node)):\n",
    "            num = int(node[idx])\n",
    "            queue.append(node[:idx] + str((num + 1) % 10) + node[idx+1:])\n",
    "            queue.append(node[:idx] + str((num - 1) % 10) + node[idx+1:])"
   ]
  },
  {
   "cell_type": "markdown",
   "metadata": {},
   "source": [
    "**Notes**\n",
    "In order to avoid TLE (Time limit exceeded), the following things are critical:\n",
    "- use deque instead of list, otherwise del arr[0] would need linear time;\n",
    "- given parameter deadends is a list, however, we only need to check whether an element is in that, so make it a set!\n",
    "- when generating neighbors, don't cast string to char array, and then join it, that would really be time consuming."
   ]
  },
  {
   "cell_type": "markdown",
   "metadata": {},
   "source": [
    "## Leetcode 127. Word ladder"
   ]
  },
  {
   "cell_type": "code",
   "execution_count": 6,
   "metadata": {},
   "outputs": [],
   "source": [
    "from collections import *\n",
    "a = deque([1,2,3])"
   ]
  },
  {
   "cell_type": "code",
   "execution_count": null,
   "metadata": {},
   "outputs": [],
   "source": [
    "def ladderLength(self, beginWord: 'str', endWord: 'str', wordList: 'List[str]') -> 'int':        "
   ]
  }
 ],
 "metadata": {
  "kernelspec": {
   "display_name": "Python 3",
   "language": "python",
   "name": "python3"
  },
  "language_info": {
   "codemirror_mode": {
    "name": "ipython",
    "version": 3
   },
   "file_extension": ".py",
   "mimetype": "text/x-python",
   "name": "python",
   "nbconvert_exporter": "python",
   "pygments_lexer": "ipython3",
   "version": "3.6.5"
  }
 },
 "nbformat": 4,
 "nbformat_minor": 2
}
