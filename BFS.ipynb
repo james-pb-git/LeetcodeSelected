{
 "cells": [
  {
   "cell_type": "markdown",
   "metadata": {},
   "source": [
    "# Breadth-first search\n",
    "\n",
    "**Breadth-first search** is a common search algorithm used for tree or graph structures. Using this method, we actually visit elements \"layer by layer\", i.e. visit one elment, then its neighbors, and then neighbors of neighbors. As a result, one of the most frequent ways to use it is to solve \"shortest path\" questions, where the optimal solution is actually the layer with smallest index."
   ]
  },
  {
   "cell_type": "markdown",
   "metadata": {},
   "source": [
    "## Leetcode 127. Word ladder"
   ]
  },
  {
   "cell_type": "code",
   "execution_count": null,
   "metadata": {},
   "outputs": [],
   "source": [
    "def ladderLength(self, beginWord: 'str', endWord: 'str', wordList: 'List[str]') -> 'int':        "
   ]
  }
 ],
 "metadata": {
  "kernelspec": {
   "display_name": "Python 3",
   "language": "python",
   "name": "python3"
  },
  "language_info": {
   "codemirror_mode": {
    "name": "ipython",
    "version": 3
   },
   "file_extension": ".py",
   "mimetype": "text/x-python",
   "name": "python",
   "nbconvert_exporter": "python",
   "pygments_lexer": "ipython3",
   "version": "3.6.5"
  }
 },
 "nbformat": 4,
 "nbformat_minor": 2
}
