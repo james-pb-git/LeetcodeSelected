{
 "cells": [
  {
   "cell_type": "markdown",
   "metadata": {},
   "source": [
    "# Sliding window\n",
    "\n",
    "The sliding window technique is usually used in the search of subarrays. When a subarray doesn't meet a certain condition, we know all its parent arrays won't meet that condition. Thus, this method is a special case of greedy algorithm.\n",
    "\n",
    "## LeetCode 1004. Max Consecutive Ones III"
   ]
  },
  {
   "cell_type": "code",
   "execution_count": 2,
   "metadata": {},
   "outputs": [],
   "source": [
    "class Solution:\n",
    "    def longestOnes(self, A: 'List[int]', K: int) -> int:\n",
    "        maxLen = 0\n",
    "        numZeros = 0\n",
    "        start = 0\n",
    "        end = 0\n",
    "        while end < len(A):\n",
    "            if A[end] == 0:\n",
    "                numZeros += 1\n",
    "                if numZeros > K:\n",
    "                    while A[start] == 1 and start <= end:\n",
    "                        start += 1\n",
    "                    start += 1\n",
    "                    numZeros -= 1\n",
    "            maxLen = max(maxLen, end - start + 1)\n",
    "            end += 1\n",
    "        return maxLen"
   ]
  },
  {
   "cell_type": "markdown",
   "metadata": {},
   "source": [
    "## LeetCode 992. Subarrays with K Different Integers\n",
    "\n",
    "#### Brute force solution (ETL)"
   ]
  },
  {
   "cell_type": "code",
   "execution_count": 3,
   "metadata": {},
   "outputs": [],
   "source": [
    "class Solution:\n",
    "    def subarraysWithKDistinct(self, A: 'List[int]', K: int) -> int:\n",
    "        elements = set()\n",
    "        res = 0\n",
    "        for idx1 in range(len(A)):\n",
    "            elements = set()\n",
    "            for idx2 in range(idx1, len(A)):\n",
    "                elements.add(A[idx2])\n",
    "                if len(elements) == K:\n",
    "                    res += 1\n",
    "        return res"
   ]
  },
  {
   "cell_type": "markdown",
   "metadata": {},
   "source": [
    "#### Sliding window solution\n",
    "Key idea: num(exactly K) = num(at most K) - num(at most K-1)\n",
    "Notice: different ways to count subarrays\n",
    "- end - start + 1 is the number of subarrays ending at 'end' with starting point between 'start' and 'end'. We add this number to result every time *before 'end' is changed*, so that no overlapping of subarrays exists.\n",
    "- (end - start + 1) * (end - start) / 2 is the number of subarrays between 'start' and 'end. I didn't use this way to count, because there would be repeatedly counted subarrays. For example, in [1,2,1,2,3] and K = 2, the second number 2 appears in [1,2,1,2] and [2,3], so it'd be counted twice. Be careful with that!"
   ]
  },
  {
   "cell_type": "code",
   "execution_count": 9,
   "metadata": {},
   "outputs": [],
   "source": [
    "class Solution:\n",
    "    def subarraysWithKDistinct(self, A: 'List[int]', K: int) -> int:\n",
    "        return self.subarraysWithAtMost(A, K) - self.subarraysWithAtMost(A, K-1)\n",
    "    \n",
    "    def subarraysWithAtMost(self, A, M):\n",
    "        if M == 0: \n",
    "            return 0\n",
    "        start = end = res = 0\n",
    "        count = {}\n",
    "        while end < len(A):\n",
    "            if A[end] in count:\n",
    "                count[A[end]] += 1\n",
    "            else:\n",
    "                if len(count) == M:\n",
    "                    while len(count) == M:\n",
    "                        count[A[start]] -= 1\n",
    "                        if count[A[start]] == 0:\n",
    "                            del count[A[start]]\n",
    "                        start += 1\n",
    "                count[A[end]] = 1\n",
    "            res += end - start + 1\n",
    "            end += 1\n",
    "        return res"
   ]
  },
  {
   "cell_type": "markdown",
   "metadata": {},
   "source": [
    "# Misc.\n",
    "\n",
    "## LeetCode 128. Longest Consecutive Sequence\n",
    "\n",
    "1) For every new element, we search for its left/right immediate neighbors and update its maximum left/right lengths.\n",
    "\n",
    "2) The tricky part is, for the sake of efficiency, we don't have to maintain the left/right length of every element in this array; however, __the infomation of the leftmost and rightmost elements in a consecutive sequence should be updated__, so that next time when further elements appear, we could get the right information from the previous boudary."
   ]
  },
  {
   "cell_type": "code",
   "execution_count": null,
   "metadata": {},
   "outputs": [],
   "source": [
    "class Solution:\n",
    "    def longestConsecutive(self, nums: List[int]) -> int:\n",
    "        if nums is None or len(nums) == 0:\n",
    "            return 0\n",
    "        val_map = {}\n",
    "        for ele in nums:\n",
    "            if ele in val_map:\n",
    "                continue\n",
    "            else:\n",
    "                val_map[ele] = [0, 0]\n",
    "            if ele - 1 in val_map:\n",
    "                val_map[ele][0] = val_map[ele - 1][0] + 1\n",
    "            if ele + 1 in val_map:\n",
    "                val_map[ele][1] = val_map[ele + 1][1] + 1\n",
    "            # Update the info of the leftmost and rightmost elements.\n",
    "            val_map[ele - val_map[ele][0]][1] = val_map[ele][0] + val_map[ele][1]\n",
    "            val_map[ele + val_map[ele][1]][0] = val_map[ele][0] + val_map[ele][1]\n",
    "        res = max([val[0] + val[1] + 1 for val in val_map.values()])\n",
    "        return res"
   ]
  }
 ],
 "metadata": {
  "kernelspec": {
   "display_name": "Python 3",
   "language": "python",
   "name": "python3"
  },
  "language_info": {
   "codemirror_mode": {
    "name": "ipython",
    "version": 3
   },
   "file_extension": ".py",
   "mimetype": "text/x-python",
   "name": "python",
   "nbconvert_exporter": "python",
   "pygments_lexer": "ipython3",
   "version": "3.6.5"
  }
 },
 "nbformat": 4,
 "nbformat_minor": 2
}
