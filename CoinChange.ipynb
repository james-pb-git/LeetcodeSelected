{
 "cells": [
  {
   "cell_type": "markdown",
   "metadata": {},
   "source": [
    "## Description\n",
    "\n",
    "You are given coins of different denominations and a total amount of money _amount_. Write a function to compute the fewest number of coins that you need to make up that amount. If that amount of money cannot be made up by any combination of the coins, return -1.\n",
    "```\n",
    "Example 1:\n",
    "Input: coins = [1, 2, 5], amount = 11\n",
    "Output: 3 \n",
    "Explanation: 11 = 5 + 5 + 1\n",
    "\n",
    "Example 2:\n",
    "Input: coins = [2], amount = 3\n",
    "Output: -1\n",
    "```\n",
    "**Note**: You may assume that you have an infinite number of each kind of coin.\n",
    "\n",
    "## Solution 1: DFS"
   ]
  },
  {
   "cell_type": "code",
   "execution_count": 2,
   "metadata": {},
   "outputs": [],
   "source": [
    "class Solution:\n",
    "    def coinChange(self, coins, amount: int) -> int:\n",
    "        if amount == 0:\n",
    "            return 0\n",
    "        \n",
    "        total_num = [-1]\n",
    "        self.dfs(coins, amount, 0, total_num)\n",
    "        return total_num[0]\n",
    "        \n",
    "    def dfs(self, coins, amount, cur_num, total_num):\n",
    "        if amount < 0:\n",
    "            return\n",
    "        if amount == 0:\n",
    "            if total_num[0] == -1 or cur_num < total_num[0]:\n",
    "                total_num[0] = cur_num\n",
    "            return\n",
    "        \n",
    "        for coin in coins:\n",
    "            self.dfs(coins, amount - coin, cur_num + 1, total_num)\n",
    "        return"
   ]
  },
  {
   "cell_type": "markdown",
   "metadata": {},
   "source": [
    "#### Note\n",
    "- Time Limit Exceeded on [1,2,5], amount = 100\n",
    "\n",
    "## Soultion 2: DFS with repetition detection"
   ]
  },
  {
   "cell_type": "code",
   "execution_count": null,
   "metadata": {},
   "outputs": [],
   "source": [
    "class Solution:\n",
    "    def coinChange(self, coins, amount: int) -> int:\n",
    "        if amount == 0:\n",
    "            return 0\n",
    "        \n",
    "        total_num = [-1]\n",
    "        visited = set()\n",
    "        self.dfs(coins, amount, 0, [], total_num, visited)\n",
    "        return total_num[0]\n",
    "        \n",
    "    def dfs(self, coins, amount, cur_num, cur_comb, total_num, visited):\n",
    "        if amount < 0:\n",
    "            return\n",
    "        if amount == 0:\n",
    "            if total_num[0] == -1 or cur_num < total_num[0]:\n",
    "                total_num[0] = cur_num\n",
    "            return\n",
    "        \n",
    "        visited.add(tuple(cur_comb))\n",
    "        for coin in coins:\n",
    "            cur_comb.append(coin)\n",
    "            if tuple(cur_comb) not in visited:\n",
    "                self.dfs(coins, amount - coin, cur_num + 1, \\\n",
    "                         cur_comb, total_num, visited)\n",
    "            del cur_comb[-1]\n",
    "        return"
   ]
  },
  {
   "cell_type": "markdown",
   "metadata": {},
   "source": [
    "#### Note\n",
    "- Time Limit Exceeded on [1,2,5], amount = 100\n",
    "\n",
    "## Soultion 3: BFS"
   ]
  },
  {
   "cell_type": "code",
   "execution_count": 4,
   "metadata": {},
   "outputs": [],
   "source": [
    "from collections import deque\n",
    "class Solution:\n",
    "    def coinChange(self, coins, amount: int) -> int:\n",
    "        if amount == 0:\n",
    "            return 0\n",
    "        return self.bfs(coins, amount)\n",
    "    \n",
    "    def bfs(self, coins, amount):\n",
    "        q = deque()\n",
    "        q.append(0)\n",
    "        num = 0\n",
    "        while len(q) > 0:\n",
    "            cnt = len(q)\n",
    "            num += 1\n",
    "            for idx in range(cnt):\n",
    "                ele = q.popleft()\n",
    "                for coin in coins:\n",
    "                    if ele + coin == amount:\n",
    "                        return num\n",
    "                    if ele + coin > amount:\n",
    "                        continue\n",
    "                    else:\n",
    "                        q.append(ele + coin)\n",
    "        return -1"
   ]
  },
  {
   "cell_type": "markdown",
   "metadata": {},
   "source": [
    "#### Note\n",
    "- Time Limit Exceeded on [1,2,5], amount = 100\n",
    "\n",
    "## Solution 4: Recursion with memorization.\n",
    "\n",
    "i.e., recursive version of DP."
   ]
  },
  {
   "cell_type": "code",
   "execution_count": 8,
   "metadata": {},
   "outputs": [],
   "source": [
    "class Solution:\n",
    "    def coinChange(self, coins, amount: int) -> int:\n",
    "        if amount == 0:\n",
    "            return 0\n",
    "        dict_ans = {}\n",
    "        return self.helper(coins, amount, dict_ans)\n",
    "        \n",
    "    def helper(self, coins, amount, dict_ans):\n",
    "        if amount < 0:\n",
    "            return -1\n",
    "        if amount == 0:\n",
    "            return 0\n",
    "        if amount in dict_ans:\n",
    "            return dict_ans[amount]\n",
    "        \n",
    "        min_num = -1\n",
    "        for coin in coins:\n",
    "            num = self.helper(coins, amount - coin, dict_ans)\n",
    "            if num != -1 and (min_num == -1 or num < min_num):\n",
    "                min_num = num + 1\n",
    "        dict_ans[amount] = min_num\n",
    "        return min_num"
   ]
  },
  {
   "cell_type": "markdown",
   "metadata": {},
   "source": [
    "#### Note\n",
    "- Accepted.\n",
    "\n",
    "## Solution 5: Dynamic programming\n",
    "\n",
    "iterative version od DP."
   ]
  },
  {
   "cell_type": "code",
   "execution_count": 9,
   "metadata": {},
   "outputs": [],
   "source": [
    "class Solution:\n",
    "    def coinChange(self, coins, amount: int) -> int:\n",
    "        dp = {}\n",
    "        dp[0] = 0\n",
    "        for idx in range(1, amount + 1):\n",
    "            res = amount + 1\n",
    "            for coin in coins:\n",
    "                if idx - coin in dp:\n",
    "                    res = min(res, dp[idx - coin])\n",
    "            if res != amount + 1:\n",
    "                dp[idx] = res + 1\n",
    "        return dp.get(amount, -1)"
   ]
  },
  {
   "cell_type": "markdown",
   "metadata": {},
   "source": [
    "#### Note:\n",
    "- Accepted.\n",
    "- Since amount might be really large, and not every number that's smaller than it has a solution, so I implemented a sparse array using dictionary instead of create an actual array."
   ]
  }
 ],
 "metadata": {
  "kernelspec": {
   "display_name": "Python 3",
   "language": "python",
   "name": "python3"
  },
  "language_info": {
   "codemirror_mode": {
    "name": "ipython",
    "version": 3
   },
   "file_extension": ".py",
   "mimetype": "text/x-python",
   "name": "python",
   "nbconvert_exporter": "python",
   "pygments_lexer": "ipython3",
   "version": "3.6.5"
  }
 },
 "nbformat": 4,
 "nbformat_minor": 2
}
