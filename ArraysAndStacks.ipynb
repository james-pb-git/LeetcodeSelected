{
 "cells": [
  {
   "cell_type": "markdown",
   "metadata": {},
   "source": [
    "# Stacks\n",
    "\n",
    "The first technique to introduce here, is to maintain an asceding / descending subsequence using a stack, so that we can finish searching array structures efficiently, usually in one-pass iteration.\n",
    "\n",
    "Some problems involving this method are LeetCode496 Next greater value, LeetCode962 max ramp, LeetCode84 max rectangle in histogram, etc. I will organize those solutions later. \n",
    "\n",
    "## LeetCode 739. Daily Temperatures"
   ]
  },
  {
   "cell_type": "code",
   "execution_count": null,
   "metadata": {},
   "outputs": [],
   "source": [
    "class Solution(object):\n",
    "    def dailyTemperatures(self, T):\n",
    "        if T is None or len(T) == 0:\n",
    "            return []\n",
    "        \n",
    "        stack = []\n",
    "        res = [0] * len(T)\n",
    "        \n",
    "        for (idx, val) in enumerate(T):\n",
    "            if len(stack) == 0 or val <= T[stack[-1]]:\n",
    "                stack.append(idx)\n",
    "            else:\n",
    "                while len(stack) > 0 and val > T[stack[-1]]:\n",
    "                    pos = stack.pop()\n",
    "                    res[pos] = idx - pos\n",
    "                stack.append(idx)\n",
    "        return res "
   ]
  }
 ],
 "metadata": {
  "kernelspec": {
   "display_name": "Python 3",
   "language": "python",
   "name": "python3"
  },
  "language_info": {
   "codemirror_mode": {
    "name": "ipython",
    "version": 3
   },
   "file_extension": ".py",
   "mimetype": "text/x-python",
   "name": "python",
   "nbconvert_exporter": "python",
   "pygments_lexer": "ipython3",
   "version": "3.6.5"
  }
 },
 "nbformat": 4,
 "nbformat_minor": 2
}
